{
 "cells": [
  {
   "cell_type": "code",
   "execution_count": 19,
   "metadata": {},
   "outputs": [
    {
     "name": "stdout",
     "output_type": "stream",
     "text": [
      "   month  premium  unlockcharactermanager\n",
      "0      6   224.72                  436.94\n",
      "1      7   321.91                  671.75\n",
      "2      8   332.53                  586.09\n",
      "3      9   226.71                  547.75\n",
      "4     10   216.28                  517.68\n",
      "5     11   336.86                  734.29\n",
      "6     12   365.07                  701.01\n"
     ]
    }
   ],
   "source": [
    "# Bokeh Libraries\n",
    "from bokeh.io import output_file\n",
    "from bokeh.plotting import figure, show\n",
    "from bokeh.models import HoverTool\n",
    "import pandas as pd\n",
    "\n",
    "# The figure will be rendered inline in my Jupyter Notebook\n",
    "output_file('analysis2.html', title='a2')\n",
    "\n",
    "# read file into Dataframe\n",
    "file_path = 'combined_sales_file.csv'\n",
    "df_table = pd.read_csv(file_path)\n",
    "\n",
    "# create a new dataframe\n",
    "monthly_sku_amount = pd.DataFrame(columns=['month', 'premium', 'unlockcharactermanager'])\n",
    "\n",
    "# change the date form\n",
    "df = pd.DataFrame(df_table)\n",
    "df['Transaction Date'] = pd.to_datetime(df['Transaction Date'], format='mixed', errors='coerce')\n",
    "df['month'] = df['Transaction Date'].dt.month\n",
    "\n",
    "# groupby premuium and unlockcharactermanager by month\n",
    "premium_amount = df[df['Sku Id'] == 'premium'].groupby('month')['Amount'].sum()\n",
    "unlockcharactermanager_amount = df[df['Sku Id'] == 'unlockcharactermanager'].groupby('month')['Amount'].sum()\n",
    "\n",
    "# use month as a index\n",
    "monthly_sku_amount['month'] = premium_amount.index\n",
    "# add line premium and unlockcharactermanager\n",
    "monthly_sku_amount['premium'] = premium_amount.values\n",
    "monthly_sku_amount['unlockcharactermanager'] = unlockcharactermanager_amount.values\n",
    "\n",
    "print(monthly_sku_amount)\n",
    "\n",
    "# add HoverTool\n",
    "hover = HoverTool(\n",
    "    tooltips=[(\"Month\", \"@month\"),\n",
    "              (\"Premium\", \"@premium{0,0}\"), \n",
    "              (\"UnlockCharacterManager\", \"@unlockcharactermanager{0,0}\")],  \n",
    "    mode='vline'  \n",
    ")\n",
    "\n",
    "# use bar chart to visualize\n",
    "p = figure(width=550, \n",
    "           height=600, \n",
    "           title='Monthly Transaction Analysis', \n",
    "           x_axis_label='Month', \n",
    "           y_axis_label = 'Transaction Amount',\n",
    "           tools=[hover])\n",
    "\n",
    "p.vbar(x=monthly_sku_amount['month'], \n",
    "       top=monthly_sku_amount['premium'], \n",
    "       width=0.3, \n",
    "       color='orange', \n",
    "       legend_label='premium')\n",
    "p.vbar(x=monthly_sku_amount['month']+0.3, \n",
    "       top=monthly_sku_amount['unlockcharactermanager'], \n",
    "       width=0.3, \n",
    "       color='blue', \n",
    "       legend_label='unlockcharactermanager')\n",
    "\n",
    "p.legend.click_policy = \"hide\"\n",
    "show(p)"
   ]
  },
  {
   "cell_type": "code",
   "execution_count": null,
   "metadata": {},
   "outputs": [],
   "source": []
  }
 ],
 "metadata": {
  "kernelspec": {
   "display_name": "Python 3",
   "language": "python",
   "name": "python3"
  },
  "language_info": {
   "codemirror_mode": {
    "name": "ipython",
    "version": 3
   },
   "file_extension": ".py",
   "mimetype": "text/x-python",
   "name": "python",
   "nbconvert_exporter": "python",
   "pygments_lexer": "ipython3",
   "version": "3.12.2"
  }
 },
 "nbformat": 4,
 "nbformat_minor": 2
}
