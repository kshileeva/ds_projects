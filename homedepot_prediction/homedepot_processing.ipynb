{
  "cells": [
    {
      "cell_type": "code",
      "execution_count": null,
      "metadata": {
        "colab": {
          "base_uri": "https://localhost:8080/"
        },
        "id": "p8-0Wt2RQGow",
        "outputId": "2fc42568-4dd8-4c28-c802-ae301aedd3a5"
      },
      "outputs": [
        {
          "output_type": "stream",
          "name": "stdout",
          "text": [
            "Mounted at /content/drive\n"
          ]
        }
      ],
      "source": [
        "from google.colab import drive\n",
        "drive.mount('/content/drive')"
      ]
    },
    {
      "cell_type": "code",
      "execution_count": null,
      "metadata": {
        "id": "-iG-HpksT5Ss"
      },
      "outputs": [],
      "source": [
        "import numpy as np\n",
        "import pandas as pd\n",
        "from sklearn.ensemble import RandomForestRegressor, BaggingRegressor\n",
        "from nltk.stem.snowball import SnowballStemmer\n",
        "import time\n",
        "import matplotlib.pyplot as plt\n",
        "import math"
      ]
    },
    {
      "cell_type": "markdown",
      "metadata": {
        "id": "7vBtnb-FxRSO"
      },
      "source": [
        "Reading csv files (may be changed to other paths)"
      ]
    },
    {
      "cell_type": "code",
      "execution_count": null,
      "metadata": {
        "id": "A8d7I2fHxQt7"
      },
      "outputs": [],
      "source": [
        "df_train = pd.read_csv('/content/drive/MyDrive/homedepot_data/train.csv', encoding=\"ISO-8859-1\")\n",
        "df_test = pd.read_csv('/content/drive/MyDrive/homedepot_data/test.csv', encoding=\"ISO-8859-1\")\n",
        "df_attr = pd.read_csv('/content/drive/MyDrive/homedepot_data/attributes.csv')\n",
        "df_pro_desc = pd.read_csv('/content/drive/MyDrive/homedepot_data/product_descriptions.csv')"
      ]
    },
    {
      "cell_type": "markdown",
      "metadata": {
        "id": "ppTfxw_QsdZd"
      },
      "source": [
        "# Analizing the data"
      ]
    },
    {
      "cell_type": "code",
      "execution_count": null,
      "metadata": {
        "colab": {
          "base_uri": "https://localhost:8080/",
          "height": 35
        },
        "id": "nh21ENZirqX6",
        "outputId": "b60eaae3-08aa-47d3-ad52-f4743ae62425"
      },
      "outputs": [
        {
          "data": {
            "application/vnd.google.colaboratory.intrinsic+json": {
              "type": "string"
            },
            "text/plain": [
              "'Number of unique product-query pairs:73392'"
            ]
          },
          "execution_count": 6,
          "metadata": {},
          "output_type": "execute_result"
        }
      ],
      "source": [
        "def total_num_pairs(df=df_train) -> str:\n",
        "    pairs = df[['product_title', 'search_term']]\n",
        "    unique_pairs = pairs.drop_duplicates()\n",
        "    num_unique_pairs = unique_pairs.shape[0]\n",
        "    return f'Number of unique product-query pairs:{num_unique_pairs}'\n",
        "total_num_pairs()"
      ]
    },
    {
      "cell_type": "code",
      "execution_count": null,
      "metadata": {
        "colab": {
          "base_uri": "https://localhost:8080/",
          "height": 35
        },
        "id": "8PTKy3Qfr3fh",
        "outputId": "b0537794-069c-4723-b3f8-9abcc1a3bf43"
      },
      "outputs": [
        {
          "data": {
            "application/vnd.google.colaboratory.intrinsic+json": {
              "type": "string"
            },
            "text/plain": [
              "'Number of unique products: 53489'"
            ]
          },
          "execution_count": 7,
          "metadata": {},
          "output_type": "execute_result"
        }
      ],
      "source": [
        "def unique_products(df=df_train) -> str:\n",
        "    num = df['product_title'].nunique()\n",
        "    return f'Number of unique products: {num}'\n",
        "unique_products()"
      ]
    },
    {
      "cell_type": "code",
      "execution_count": null,
      "metadata": {
        "colab": {
          "base_uri": "https://localhost:8080/",
          "height": 53
        },
        "id": "3OlLK6JTr9AD",
        "outputId": "afb80c3d-49d7-483e-aa1c-6973d1049849"
      },
      "outputs": [
        {
          "data": {
            "application/vnd.google.colaboratory.intrinsic+json": {
              "type": "string"
            },
            "text/plain": [
              "'Top two occurring products and their counts in column:\"\\nproduct_title\\nLithonia Lighting All Season 4 ft. 2-Light Grey T8 Strip Fluorescent Shop Light                                          21\\nPressure-Treated Timber #2 Southern Yellow Pine (Common: 4 in. x 4 in. x 8 ft.; Actual: 3.56 in. x 3.56 in. x 96 in.)    21\\nName: count, dtype: int64'"
            ]
          },
          "execution_count": 8,
          "metadata": {},
          "output_type": "execute_result"
        }
      ],
      "source": [
        "def top_2_occur_product(df=df_train) -> str:\n",
        "    product_counts = df['product_title'].value_counts()\n",
        "    top_two_products = product_counts.head(2)\n",
        "    return f'Top two occurring products and their counts in column:\"\\n{top_two_products}'\n",
        "top_2_occur_product()"
      ]
    },
    {
      "cell_type": "code",
      "execution_count": null,
      "metadata": {
        "colab": {
          "base_uri": "https://localhost:8080/",
          "height": 35
        },
        "id": "Z-MBVsdNuecj",
        "outputId": "ca2b8cdd-d0df-4277-f85e-07f9d4f19404"
      },
      "outputs": [
        {
          "data": {
            "application/vnd.google.colaboratory.intrinsic+json": {
              "type": "string"
            },
            "text/plain": [
              "'Mean: 2.3816337910270433'"
            ]
          },
          "execution_count": 9,
          "metadata": {},
          "output_type": "execute_result"
        }
      ],
      "source": [
        "def relevance_mean(df=df_train) -> str:\n",
        "    mean = df['relevance'].mean()\n",
        "    return f'Mean: {mean}'\n",
        "relevance_mean()"
      ]
    },
    {
      "cell_type": "code",
      "execution_count": null,
      "metadata": {
        "colab": {
          "base_uri": "https://localhost:8080/",
          "height": 35
        },
        "id": "_RDp6HJoulcS",
        "outputId": "02803085-bdae-4e9f-f720-76ce86dbc333"
      },
      "outputs": [
        {
          "data": {
            "application/vnd.google.colaboratory.intrinsic+json": {
              "type": "string"
            },
            "text/plain": [
              "'Standard deviation: 0.5339839484172103'"
            ]
          },
          "execution_count": 10,
          "metadata": {},
          "output_type": "execute_result"
        }
      ],
      "source": [
        "def standard_dev(num: int = len(df_train['relevance']), points: list[float] = df_train['relevance'].tolist(),\n",
        "                 mean: float = df_train['relevance'].mean()) -> str:\n",
        "    variance = 0\n",
        "    for point in points:\n",
        "        variance += pow((point - mean), 2)\n",
        "    return f'Standard deviation: {math.sqrt((variance / (num - 1)))}'\n",
        "standard_dev()"
      ]
    },
    {
      "cell_type": "code",
      "execution_count": null,
      "metadata": {
        "colab": {
          "base_uri": "https://localhost:8080/",
          "height": 35
        },
        "id": "2g4nC2NMuotE",
        "outputId": "0505d666-3afe-4c40-a175-04f53883a922"
      },
      "outputs": [
        {
          "data": {
            "application/vnd.google.colaboratory.intrinsic+json": {
              "type": "string"
            },
            "text/plain": [
              "'Median: 2.33'"
            ]
          },
          "execution_count": 11,
          "metadata": {},
          "output_type": "execute_result"
        }
      ],
      "source": [
        "def relevance_med(df=df_train) -> str:\n",
        "    return f'Median: {df[\"relevance\"].median()}'\n",
        "relevance_med()"
      ]
    },
    {
      "cell_type": "code",
      "execution_count": null,
      "metadata": {
        "colab": {
          "base_uri": "https://localhost:8080/",
          "height": 314
        },
        "id": "R8ns8YGguw12",
        "outputId": "f7f4cfb5-0b79-4b7b-c6cb-8cd75626f076"
      },
      "outputs": [
        {
          "data": {
            "image/png": "[encoded data removed]",
            "text/plain": [
              "<Figure size 400x300 with 1 Axes>"
            ]
          },
          "metadata": {},
          "output_type": "display_data"
        }
      ],
      "source": [
        "def boxplot(df=df_train):\n",
        "    relevance_values = df['relevance'].tolist()\n",
        "    median_value = np.median(relevance_values)\n",
        "    plt.figure(figsize=(4, 3))\n",
        "    plt.boxplot(relevance_values, medianprops=dict(color='red', linewidth=2))\n",
        "    plt.title('Distribution of Relevance Values')\n",
        "    plt.ylabel('Relevance Score')\n",
        "    plt.grid(True)\n",
        "    plt.text(1, median_value, f'Median = {median_value:.2f}', ha='left', va='bottom', color='red')\n",
        "    plt.show()\n",
        "boxplot()"
      ]
    },
    {
      "cell_type": "markdown",
      "metadata": {
        "id": "_K6V286OsnGd"
      },
      "source": [
        "# Random Forest Regression"
      ]
    },
    {
      "cell_type": "markdown",
      "metadata": {
        "id": "u0KoIpmD2ULF"
      },
      "source": [
        "Baseline features \\\\\n",
        "https://www.kaggle.com/code/wenxuanchen/sklearn-random-forest/script"
      ]
    },
    {
      "cell_type": "code",
      "execution_count": null,
      "metadata": {
        "id": "q9SAwi-mVFC4"
      },
      "outputs": [],
      "source": [
        "stemmer = SnowballStemmer('english')\n",
        "\n",
        "num_train = df_train.shape[0]\n",
        "\n",
        "def str_stemmer(s):\n",
        "    return \" \".join([stemmer.stem(word) for word in s.lower().split()])\n",
        "\n",
        "\n",
        "def str_common_word(str1, str2):\n",
        "    return sum(int(str2.find(word) >= 0) for word in str1.split())\n",
        "\n",
        "\n",
        "df_all = pd.concat((df_train, df_test), axis=0, ignore_index=True)\n",
        "\n",
        "df_all = pd.merge(df_all, df_pro_desc, how='left', on='product_uid')\n",
        "\n",
        "df_all['search_term'] = df_all['search_term'].map(lambda x: str_stemmer(x))\n",
        "df_all['product_title'] = df_all['product_title'].map(lambda x: str_stemmer(x))\n",
        "df_all['product_description'] = df_all['product_description'].map(lambda x: str_stemmer(x))\n",
        "\n",
        "df_all['len_of_query'] = df_all['search_term'].map(lambda x: len(x.split())).astype(np.int64)\n",
        "\n",
        "df_all['product_info'] = df_all['search_term']+\"\\t\"+df_all['product_title']+\"\\t\"+df_all['product_description']\n",
        "\n",
        "df_all['word_in_title'] = df_all['product_info'].map(lambda x: str_common_word(x.split('\\t')[0], x.split('\\t')[1]))\n",
        "df_all['word_in_description'] = df_all['product_info'].map(lambda x: str_common_word(x.split('\\t')[0],\n",
        "                                                                                     x.split('\\t')[2]))\n",
        "\n",
        "df_all = df_all.drop(['search_term', 'product_title', 'product_description', 'product_info'], axis=1)\n",
        "\n",
        "df_train = df_all.iloc[:num_train]\n",
        "df_test = df_all.iloc[num_train:]\n",
        "id_test = df_test['id']"
      ]
    },
    {
      "cell_type": "code",
      "execution_count": null,
      "metadata": {
        "id": "aSPquXxMcIql"
      },
      "outputs": [],
      "source": [
        "y_train = df_train['relevance'].values\n",
        "X_train = df_train.drop(['id', 'relevance'], axis=1).values\n",
        "X_test = df_test.drop(['id', 'relevance'], axis=1).values\n",
        "rf = RandomForestRegressor(n_estimators=15, max_depth=6, random_state=0)\n",
        "clf = BaggingRegressor(rf, n_estimators=45, max_samples=0.1, random_state=25)\n",
        "clf.fit(X_train, y_train)\n",
        "y_pred = clf.predict(X_test)"
      ]
    },
    {
      "cell_type": "markdown",
      "metadata": {
        "id": "-N_PDirm3lXS"
      },
      "source": [
        "Import libraries for rmse score and splitting training set to 80% train -20% test"
      ]
    },
    {
      "cell_type": "code",
      "execution_count": null,
      "metadata": {
        "id": "Xu82wRESchCh"
      },
      "outputs": [],
      "source": [
        "from sklearn.metrics import mean_squared_error\n",
        "from sklearn.model_selection import train_test_split"
      ]
    },
    {
      "cell_type": "code",
      "execution_count": null,
      "metadata": {
        "colab": {
          "base_uri": "https://localhost:8080/"
        },
        "id": "QzUV36ohcclY",
        "outputId": "b2d28156-68d3-4da7-9e89-45f0a79b6590"
      },
      "outputs": [
        {
          "output_type": "stream",
          "name": "stdout",
          "text": [
            "RMSE: 0.4797667197056582\n"
          ]
        }
      ],
      "source": [
        "X_train_split, X_test_split, y_train_split, y_test_split = train_test_split(X_train, y_train, test_size=0.2, random_state=0)\n",
        "clf.fit(X_train_split, y_train_split)\n",
        "y_pred_split = clf.predict(X_test_split)\n",
        "rmse = np.sqrt(mean_squared_error(y_test_split, y_pred_split))\n",
        "print(\"RMSE:\", rmse)"
      ]
    },
    {
      "cell_type": "markdown",
      "source": [
        "LastWordMatch"
      ],
      "metadata": {
        "id": "4Pu5oqXBRhSk"
      }
    },
    {
      "cell_type": "code",
      "source": [
        "num_train = df_train.shape[0]\n",
        "\n",
        "def str_stemmer(s):\n",
        "\treturn \" \".join([stemmer.stem(word) for word in s.lower().split()])\n",
        "\n",
        "def str_common_word(str1, str2):\n",
        "\treturn sum(int(str2.find(word)>=0) for word in str1.split())\n",
        "\n",
        "def last_word_match(search_term, product_title, product_description):\n",
        "    last_word = search_term.split()[-1]\n",
        "    title_words = product_title.split()\n",
        "    description_words = product_description.split()\n",
        "    if last_word in title_words or last_word in description_words:\n",
        "        return 1\n",
        "    else:\n",
        "        return 0\n",
        "\n",
        "df_all = pd.concat((df_train, df_test), axis=0, ignore_index=True)\n",
        "\n",
        "df_all = pd.merge(df_all, df_pro_desc, how='left', on='product_uid')\n",
        "\n",
        "\n",
        "df_all['search_term'] = df_all['search_term'].map(lambda x:str_stemmer(x))\n",
        "df_all['product_title'] = df_all['product_title'].map(lambda x:str_stemmer(x))\n",
        "df_all['product_description'] = df_all['product_description'].map(lambda x:str_stemmer(x))\n",
        "\n",
        "df_all['len_of_query'] = df_all['search_term'].map(lambda x:len(x.split())).astype(np.int64)\n",
        "\n",
        "df_all['product_info'] = df_all['search_term']+\"\\t\"+df_all['product_title']+\"\\t\"+df_all['product_description']\n",
        "\n",
        "df_all['word_in_title'] = df_all['product_info'].map(lambda x:str_common_word(x.split('\\t')[0],x.split('\\t')[1]))\n",
        "df_all['word_in_description'] = df_all['product_info'].map(lambda x:str_common_word(x.split('\\t')[0],x.split('\\t')[2]))\n",
        "df_all['last_word_match'] = df_all.apply(lambda row: last_word_match(row['search_term'], row['product_title'], row['product_description']), axis=1)\n",
        "\n",
        "df_all = df_all.drop(['search_term','product_title','product_description','product_info'],axis=1)\n",
        "\n",
        "df_train = df_all.iloc[:num_train]\n",
        "df_test = df_all.iloc[num_train:]\n",
        "id_test = df_test['id']\n",
        "\n",
        "y_train = df_train['relevance'].values\n",
        "X_train = df_train.drop(['id','relevance'],axis=1).values\n",
        "X_test = df_test.drop(['id','relevance'],axis=1).values\n"
      ],
      "metadata": {
        "id": "q7N3dkr1Rkoi"
      },
      "execution_count": null,
      "outputs": []
    },
    {
      "cell_type": "code",
      "source": [
        "rf = RandomForestRegressor(n_estimators=15, max_depth=6, random_state=0)\n",
        "clf = BaggingRegressor(rf, n_estimators=45, max_samples=0.1, random_state=25)\n",
        "X_train_split_lwm, X_test_split_lwm, y_train_split_lwm, y_test_split_lwm = train_test_split(X_train, y_train, test_size=0.2, random_state=0)\n",
        "clf.fit(X_train_split_lwm, y_train_split_lwm)\n",
        "\n",
        "y_pred_split_lwm = clf.predict(X_test_split_lwm)\n",
        "rmse = np.sqrt(mean_squared_error(y_test_split_lwm, y_pred_split_lwm))\n",
        "print(rmse)"
      ],
      "metadata": {
        "colab": {
          "base_uri": "https://localhost:8080/"
        },
        "id": "l8cqiFdTRwlN",
        "outputId": "54bb23c0-7c68-4de3-92de-c80b47f6c909"
      },
      "execution_count": null,
      "outputs": [
        {
          "output_type": "stream",
          "name": "stdout",
          "text": [
            "0.4810496374286904\n"
          ]
        }
      ]
    },
    {
      "cell_type": "markdown",
      "source": [
        "TF-IDF"
      ],
      "metadata": {
        "id": "ZuIXoAxg4jyo"
      }
    },
    {
      "cell_type": "code",
      "source": [
        "import pandas as pd\n",
        "import numpy as np\n",
        "from sklearn.ensemble import RandomForestRegressor, BaggingRegressor\n",
        "from sklearn.model_selection import train_test_split\n",
        "from sklearn.feature_extraction.text import TfidfVectorizer\n",
        "from sklearn.metrics import mean_squared_error\n",
        "from nltk.stem import SnowballStemmer\n",
        "import time\n",
        "\n",
        "start = time.time()\n",
        "df_train = pd.read_csv('/content/drive/MyDrive/homedepot_data/train.csv', encoding=\"ISO-8859-1\")\n",
        "df_test = pd.read_csv('/content/drive/MyDrive/homedepot_data/test.csv', encoding=\"ISO-8859-1\")\n",
        "df_pro_desc = pd.read_csv('/content/drive/MyDrive/homedepot_data/product_descriptions.csv')\n",
        "\n",
        "stemmer = SnowballStemmer('english')\n",
        "\n",
        "def str_stemmer(s):\n",
        "    return \" \".join([stemmer.stem(word) for word in s.lower().split()])\n",
        "\n",
        "df_train['search_term'] = df_train['search_term'].map(str_stemmer)\n",
        "df_train['product_title'] = df_train['product_title'].map(str_stemmer)\n",
        "df_pro_desc['product_description'] = df_pro_desc['product_description'].map(str_stemmer)\n",
        "\n",
        "df_all = pd.concat([df_train, df_test], axis=0, ignore_index=True)\n",
        "df_all = pd.merge(df_all, df_pro_desc, how='left', on='product_uid')\n",
        "\n",
        "tfidf = TfidfVectorizer(ngram_range=(1, 2), max_features=5000, stop_words='english')\n",
        "\n",
        "tfidf_matrix_search_term = tfidf.fit_transform(df_all['search_term'])\n",
        "tfidf_matrix_product_title = tfidf.fit_transform(df_all['product_title'])\n",
        "tfidf_matrix_product_description = tfidf.fit_transform(df_all['product_description'])\n",
        "\n",
        "X_tfidf = np.hstack([tfidf_matrix_search_term.toarray(),\n",
        "                     tfidf_matrix_product_title.toarray(),\n",
        "                     tfidf_matrix_product_description.toarray()])\n",
        "\n",
        "X_train_tfidf = X_tfidf[:df_train.shape[0]]\n",
        "X_test_tfidf = X_tfidf[df_train.shape[0]:]\n",
        "\n",
        "y_train = df_train['relevance'].values\n",
        "\n",
        "X_train_split, X_test_split, y_train_split, y_test_split = train_test_split(X_train_tfidf, y_train, test_size=0.2, random_state=0)\n",
        "\n",
        "rf = RandomForestRegressor(n_estimators=15, max_depth=6, random_state=0)\n",
        "clf = BaggingRegressor(rf, n_estimators=45, max_samples=0.1, random_state=25)\n",
        "clf.fit(X_train_split, y_train_split)\n",
        "\n",
        "y_pred_split = clf.predict(X_test_split)\n",
        "\n",
        "rmse = np.sqrt(mean_squared_error(y_test_split, y_pred_split))\n",
        "\n",
        "end = time.time()\n",
        "\n",
        "print(\"RMSE:\", rmse)\n",
        "print(\"Time:\", end - start)"
      ],
      "metadata": {
        "id": "Y5JB4tbt4lKl"
      },
      "execution_count": null,
      "outputs": []
    },
    {
      "cell_type": "markdown",
      "metadata": {
        "id": "PKil1qD23JxO"
      },
      "source": [
        "# Linear Regression"
      ]
    },
    {
      "cell_type": "code",
      "execution_count": null,
      "metadata": {
        "id": "_WQj_nT6wJGs"
      },
      "outputs": [],
      "source": [
        "from sklearn.linear_model import LinearRegression\n",
        "from sklearn.model_selection import train_test_split\n",
        "from sklearn.metrics import mean_squared_error"
      ]
    },
    {
      "cell_type": "code",
      "execution_count": null,
      "metadata": {
        "id": "DFEQCcD_tAA-"
      },
      "outputs": [],
      "source": [
        "stemmer = SnowballStemmer('english')\n",
        "\n",
        "num_train = df_train.shape[0]\n",
        "\n",
        "def str_stemmer(s):\n",
        "    return \" \".join([stemmer.stem(word) for word in s.lower().split()])\n",
        "\n",
        "\n",
        "def str_common_word(str1, str2):\n",
        "    return sum(int(str2.find(word) >= 0) for word in str1.split())\n",
        "\n",
        "\n",
        "df_all = pd.concat((df_train, df_test), axis=0, ignore_index=True)\n",
        "\n",
        "df_all = pd.merge(df_all, df_pro_desc, how='left', on='product_uid')\n",
        "\n",
        "\n",
        "df_all['search_term'] = df_all['search_term'].map(lambda x: str_stemmer(x))\n",
        "df_all['product_title'] = df_all['product_title'].map(lambda x: str_stemmer(x))\n",
        "df_all['product_description'] = df_all['product_description'].map(lambda x: str_stemmer(x))\n",
        "\n",
        "df_all['len_of_query'] = df_all['search_term'].map(lambda x: len(x.split())).astype(np.int64)\n",
        "\n",
        "df_all['product_info'] = df_all['search_term']+\"\\t\"+df_all['product_title']+\"\\t\"+df_all['product_description']\n",
        "\n",
        "df_all['word_in_title'] = df_all['product_info'].map(lambda x: str_common_word(x.split('\\t')[0], x.split('\\t')[1]))\n",
        "df_all['word_in_description'] = df_all['product_info'].map(lambda x: str_common_word(x.split('\\t')[0],\n",
        "                                            x.split('\\t')[2]))\n",
        "\n",
        "df_all = df_all.drop(['search_term', 'product_title', 'product_description', 'product_info'], axis=1)\n",
        "\n",
        "df_train = df_all.iloc[:num_train]\n",
        "df_test = df_all.iloc[num_train:]\n",
        "id_test = df_test['id']\n",
        "\n",
        "\n",
        "y_train = df_train['relevance'].values\n",
        "X_train = df_train.drop(['id','relevance'],axis=1).values\n",
        "X_test = df_test.drop(['id','relevance'],axis=1).values\n",
        "\n",
        "X_train_split, X_test_split, y_train_split, y_test_split = train_test_split(X_train, y_train, test_size=0.2, random_state=42)\n"
      ]
    },
    {
      "cell_type": "code",
      "execution_count": null,
      "metadata": {
        "colab": {
          "base_uri": "https://localhost:8080/"
        },
        "id": "6l9RdxOU0tdh",
        "outputId": "838188c9-f311-4d20-de10-146c33b43254"
      },
      "outputs": [
        {
          "name": "stdout",
          "output_type": "stream",
          "text": [
            "RMSE: 0.49245106782281634\n"
          ]
        }
      ],
      "source": [
        "model = LinearRegression()\n",
        "model.fit(X_train_split, y_train_split)\n",
        "\n",
        "y_pred = model.predict(X_test_split)\n",
        "\n",
        "rmse = np.sqrt(mean_squared_error(y_test_split, y_pred))\n",
        "print(\"RMSE:\", rmse)"
      ]
    },
    {
      "cell_type": "markdown",
      "source": [
        "LastWordMatch"
      ],
      "metadata": {
        "id": "4ZQRKxNpX4mg"
      }
    },
    {
      "cell_type": "code",
      "source": [
        "num_train = df_train.shape[0]\n",
        "\n",
        "def str_stemmer(s):\n",
        "\treturn \" \".join([stemmer.stem(word) for word in s.lower().split()])\n",
        "\n",
        "def str_common_word(str1, str2):\n",
        "\treturn sum(int(str2.find(word)>=0) for word in str1.split())\n",
        "\n",
        "def last_word_match(search_term, product_title, product_description):\n",
        "    last_word = search_term.split()[-1]\n",
        "    title_words = product_title.split()\n",
        "    description_words = product_description.split()\n",
        "    if last_word in title_words or last_word in description_words:\n",
        "        return 1\n",
        "    else:\n",
        "        return 0\n",
        "\n",
        "df_all = pd.concat((df_train, df_test), axis=0, ignore_index=True)\n",
        "\n",
        "df_all = pd.merge(df_all, df_pro_desc, how='left', on='product_uid')\n",
        "\n",
        "\n",
        "df_all['search_term'] = df_all['search_term'].map(lambda x:str_stemmer(x))\n",
        "df_all['product_title'] = df_all['product_title'].map(lambda x:str_stemmer(x))\n",
        "df_all['product_description'] = df_all['product_description'].map(lambda x:str_stemmer(x))\n",
        "\n",
        "df_all['len_of_query'] = df_all['search_term'].map(lambda x:len(x.split())).astype(np.int64)\n",
        "\n",
        "df_all['product_info'] = df_all['search_term']+\"\\t\"+df_all['product_title']+\"\\t\"+df_all['product_description']\n",
        "\n",
        "df_all['word_in_title'] = df_all['product_info'].map(lambda x:str_common_word(x.split('\\t')[0],x.split('\\t')[1]))\n",
        "df_all['word_in_description'] = df_all['product_info'].map(lambda x:str_common_word(x.split('\\t')[0],x.split('\\t')[2]))\n",
        "df_all['last_word_match'] = df_all.apply(lambda row: last_word_match(row['search_term'], row['product_title'], row['product_description']), axis=1)\n",
        "\n",
        "df_all = df_all.drop(['search_term','product_title','product_description','product_info'],axis=1)\n",
        "\n",
        "df_train = df_all.iloc[:num_train]\n",
        "df_test = df_all.iloc[num_train:]\n",
        "id_test = df_test['id']\n",
        "\n",
        "y_train = df_train['relevance'].values\n",
        "X_train = df_train.drop(['id','relevance'],axis=1).values\n",
        "X_test = df_test.drop(['id','relevance'],axis=1).values"
      ],
      "metadata": {
        "id": "ZDWjTeUWX9O4"
      },
      "execution_count": null,
      "outputs": []
    },
    {
      "cell_type": "code",
      "source": [
        "X_train_split, X_test_split, y_train_split, y_test_split = train_test_split(X_train, y_train, test_size=0.2, random_state=42)\n",
        "\n",
        "model = LinearRegression()\n",
        "model.fit(X_train_split, y_train_split)\n",
        "\n",
        "y_pred = model.predict(X_test_split)\n",
        "\n",
        "rmse = np.sqrt(mean_squared_error(y_test_split, y_pred))\n",
        "print(\"RMSE:\", rmse)"
      ],
      "metadata": {
        "colab": {
          "base_uri": "https://localhost:8080/"
        },
        "id": "5v9wRU_0YTxK",
        "outputId": "47cbf22d-7339-4768-fc7a-8613f338dfc9"
      },
      "execution_count": null,
      "outputs": [
        {
          "output_type": "stream",
          "name": "stdout",
          "text": [
            "RMSE: 0.48857116460138134\n"
          ]
        }
      ]
    },
    {
      "cell_type": "markdown",
      "metadata": {
        "id": "4eNGcyvu3Wd_"
      },
      "source": [
        "# Bayesian Regression"
      ]
    },
    {
      "cell_type": "code",
      "execution_count": null,
      "metadata": {
        "id": "hw5W_iOvgFbe"
      },
      "outputs": [],
      "source": [
        "from sklearn.linear_model import BayesianRidge\n",
        "from nltk.stem.snowball import SnowballStemmer\n",
        "from sklearn.metrics import mean_squared_error\n",
        "from sklearn.model_selection import train_test_split"
      ]
    },
    {
      "cell_type": "code",
      "execution_count": null,
      "metadata": {
        "id": "GpbXNleQpqKu"
      },
      "outputs": [],
      "source": [
        "stemmer = SnowballStemmer('english')\n",
        "\n",
        "num_train = df_train.shape[0]\n",
        "\n",
        "def str_stemmer(s):\n",
        "    return \" \".join([stemmer.stem(word) for word in s.lower().split()])\n",
        "\n",
        "\n",
        "def str_common_word(str1, str2):\n",
        "    return sum(int(str2.find(word) >= 0) for word in str1.split())\n",
        "\n",
        "\n",
        "df_all = pd.concat((df_train, df_test), axis=0, ignore_index=True)\n",
        "\n",
        "df_all = pd.merge(df_all, df_pro_desc, how='left', on='product_uid')\n",
        "\n",
        "\n",
        "df_all['search_term'] = df_all['search_term'].map(lambda x: str_stemmer(x)) #x.lower()\n",
        "df_all['product_title'] = df_all['product_title'].map(lambda x: str_stemmer(x))\n",
        "df_all['product_description'] = df_all['product_description'].map(lambda x: str_stemmer(x))\n",
        "\n",
        "df_all['len_of_query'] = df_all['search_term'].map(lambda x: len(x.split())).astype(np.int64)\n",
        "\n",
        "df_all['product_info'] = df_all['search_term']+\"\\t\"+df_all['product_title']+\"\\t\"+df_all['product_description']\n",
        "\n",
        "df_all['word_in_title'] = df_all['product_info'].map(lambda x: str_common_word(x.split('\\t')[0], x.split('\\t')[1]))\n",
        "df_all['word_in_description'] = df_all['product_info'].map(lambda x: str_common_word(x.split('\\t')[0],\n",
        "                                            x.split('\\t')[2]))"
      ]
    },
    {
      "cell_type": "code",
      "execution_count": null,
      "metadata": {
        "id": "xrRYJqyPuwgg"
      },
      "outputs": [],
      "source": [
        "df_all = df_all.drop(['search_term', 'product_title', 'product_description', 'product_info'], axis=1)\n",
        "df_train = df_all.iloc[:num_train]\n",
        "df_test = df_all.iloc[num_train:]\n",
        "id_test = df_test['id']\n",
        "\n",
        "y_train = df_train['relevance'].values\n",
        "X_train = df_train.drop(['id','relevance'],axis=1).values\n",
        "X_test = df_test.drop(['id','relevance'],axis=1).values"
      ]
    },
    {
      "cell_type": "code",
      "execution_count": null,
      "metadata": {
        "colab": {
          "base_uri": "https://localhost:8080/"
        },
        "id": "FcYxZkQZp45a",
        "outputId": "d642b944-a11d-4b51-9925-5979718f4e69"
      },
      "outputs": [
        {
          "output_type": "stream",
          "name": "stdout",
          "text": [
            "RMSE: 0.4924494911226811\n"
          ]
        }
      ],
      "source": [
        "X_train_split, X_test_split, y_train_split, y_test_split = train_test_split(X_train, y_train, test_size=0.2, random_state=42)\n",
        "\n",
        "model = BayesianRidge()\n",
        "model.fit(X_train_split, y_train_split)\n",
        "\n",
        "y_pred = model.predict(X_test_split)\n",
        "\n",
        "rmse = np.sqrt(mean_squared_error(y_test_split, y_pred))\n",
        "print(\"RMSE:\", rmse)"
      ]
    },
    {
      "cell_type": "markdown",
      "source": [
        "Stemming_removal"
      ],
      "metadata": {
        "id": "DSxpm9_IOc8H"
      }
    },
    {
      "cell_type": "code",
      "source": [
        "num_train = df_train.shape[0]\n",
        "\n",
        "def str_common_word(str1, str2):\n",
        "    return sum(int(str2.find(word) >= 0) for word in str1.split())\n",
        "\n",
        "\n",
        "df_all = pd.concat((df_train, df_test), axis=0, ignore_index=True)\n",
        "\n",
        "df_all = pd.merge(df_all, df_pro_desc, how='left', on='product_uid')\n",
        "\n",
        "df_all['search_term'] = df_all['search_term'].map(lambda x: x.lower())\n",
        "df_all['product_title'] = df_all['product_title'].map(lambda x: x.lower())\n",
        "df_all['product_description'] = df_all['product_description'].map(lambda x: x.lower())\n",
        "\n",
        "df_all['len_of_query'] = df_all['search_term'].map(lambda x: len(x.split())).astype(np.int64)\n",
        "\n",
        "df_all['product_info'] = df_all['search_term']+\"\\t\"+df_all['product_title']+\"\\t\"+df_all['product_description']\n",
        "\n",
        "df_all['word_in_title'] = df_all['product_info'].map(lambda x: str_common_word(x.split('\\t')[0], x.split('\\t')[1]))\n",
        "df_all['word_in_description'] = df_all['product_info'].map(lambda x: str_common_word(x.split('\\t')[0],\n",
        "                                            x.split('\\t')[2]))"
      ],
      "metadata": {
        "id": "CYqZMwh8OhLA"
      },
      "execution_count": null,
      "outputs": []
    },
    {
      "cell_type": "code",
      "source": [
        "df_all = df_all.drop(['search_term', 'product_title', 'product_description', 'product_info'], axis=1)\n",
        "df_train = df_all.iloc[:num_train]\n",
        "df_test = df_all.iloc[num_train:]\n",
        "id_test = df_test['id']\n",
        "\n",
        "\n",
        "y_train = df_train['relevance'].values\n",
        "X_train = df_train.drop(['id','relevance'],axis=1).values\n",
        "X_test = df_test.drop(['id','relevance'],axis=1).values\n",
        "\n",
        "X_train_split, X_test_split, y_train_split, y_test_split = train_test_split(X_train, y_train, test_size=0.2, random_state=42)\n"
      ],
      "metadata": {
        "id": "g4KhqunWTI7x"
      },
      "execution_count": null,
      "outputs": []
    },
    {
      "cell_type": "code",
      "source": [
        "model = BayesianRidge()\n",
        "model.fit(X_train_split, y_train_split)\n",
        "\n",
        "y_pred = model.predict(X_test_split)\n",
        "\n",
        "rmse = np.sqrt(mean_squared_error(y_test_split, y_pred))\n",
        "print(\"RMSE:\", rmse)\n"
      ],
      "metadata": {
        "colab": {
          "base_uri": "https://localhost:8080/"
        },
        "id": "GS4vlTT0TOQx",
        "outputId": "09562af3-2266-4702-d3a7-eda9f4ff1e1b"
      },
      "execution_count": null,
      "outputs": [
        {
          "output_type": "stream",
          "name": "stdout",
          "text": [
            "RMSE: 0.5010186519057322\n"
          ]
        }
      ]
    },
    {
      "cell_type": "markdown",
      "source": [
        "LastWordMatch"
      ],
      "metadata": {
        "id": "zBKvxecXYp0Q"
      }
    },
    {
      "cell_type": "code",
      "source": [
        "num_train = df_train.shape[0]\n",
        "\n",
        "def str_stemmer(s):\n",
        "\treturn \" \".join([stemmer.stem(word) for word in s.lower().split()])\n",
        "\n",
        "def str_common_word(str1, str2):\n",
        "\treturn sum(int(str2.find(word)>=0) for word in str1.split())\n",
        "\n",
        "def last_word_match(search_term, product_title, product_description):\n",
        "    last_word = search_term.split()[-1]\n",
        "    title_words = product_title.split()\n",
        "    description_words = product_description.split()\n",
        "    if last_word in title_words or last_word in description_words:\n",
        "        return 1\n",
        "    else:\n",
        "        return 0\n",
        "\n",
        "df_all = pd.concat((df_train, df_test), axis=0, ignore_index=True)\n",
        "\n",
        "df_all = pd.merge(df_all, df_pro_desc, how='left', on='product_uid')\n",
        "\n",
        "\n",
        "df_all['search_term'] = df_all['search_term'].map(lambda x:str_stemmer(x))\n",
        "df_all['product_title'] = df_all['product_title'].map(lambda x:str_stemmer(x))\n",
        "df_all['product_description'] = df_all['product_description'].map(lambda x:str_stemmer(x))\n",
        "\n",
        "df_all['len_of_query'] = df_all['search_term'].map(lambda x:len(x.split())).astype(np.int64)\n",
        "\n",
        "df_all['product_info'] = df_all['search_term']+\"\\t\"+df_all['product_title']+\"\\t\"+df_all['product_description']\n",
        "\n",
        "df_all['word_in_title'] = df_all['product_info'].map(lambda x:str_common_word(x.split('\\t')[0],x.split('\\t')[1]))\n",
        "df_all['word_in_description'] = df_all['product_info'].map(lambda x:str_common_word(x.split('\\t')[0],x.split('\\t')[2]))\n",
        "df_all['last_word_match'] = df_all.apply(lambda row: last_word_match(row['search_term'], row['product_title'], row['product_description']), axis=1)\n",
        "\n",
        "df_all = df_all.drop(['search_term','product_title','product_description','product_info'],axis=1)\n",
        "\n",
        "df_train = df_all.iloc[:num_train]\n",
        "df_test = df_all.iloc[num_train:]\n",
        "id_test = df_test['id']\n",
        "\n",
        "y_train = df_train['relevance'].values\n",
        "X_train = df_train.drop(['id','relevance'],axis=1).values\n",
        "X_test = df_test.drop(['id','relevance'],axis=1).values"
      ],
      "metadata": {
        "id": "uRjZwMOiYtL6"
      },
      "execution_count": null,
      "outputs": []
    },
    {
      "cell_type": "code",
      "source": [
        "X_train_split, X_test_split, y_train_split, y_test_split = train_test_split(X_train, y_train, test_size=0.2, random_state=42)\n",
        "\n",
        "model = BayesianRidge()\n",
        "model.fit(X_train_split, y_train_split)\n",
        "\n",
        "y_pred = model.predict(X_test_split)\n",
        "\n",
        "rmse = np.sqrt(mean_squared_error(y_test_split, y_pred))\n",
        "print(\"RMSE:\", rmse)"
      ],
      "metadata": {
        "id": "piCU8PoOZH3r"
      },
      "execution_count": null,
      "outputs": []
    },
    {
      "cell_type": "markdown",
      "metadata": {
        "id": "bd0tikI5Z5W2"
      },
      "source": [
        "# XGBoost"
      ]
    },
    {
      "cell_type": "markdown",
      "metadata": {
        "id": "Zi5sAJrGZ-Mr"
      },
      "source": [
        "Baseline method"
      ]
    },
    {
      "cell_type": "code",
      "execution_count": null,
      "metadata": {
        "id": "ynEzig9eZ_8R"
      },
      "outputs": [],
      "source": [
        "import numpy as np\n",
        "import pandas as pd\n",
        "import xgboost as xgb\n",
        "import time\n",
        "from nltk import SnowballStemmer\n",
        "from sklearn.metrics import mean_squared_error\n",
        "from sklearn.model_selection import train_test_split\n",
        "\n",
        "start1 = time.time()\n",
        "\n",
        "df_train = pd.read_csv('/content/drive/MyDrive/homedepot_data/train.csv', encoding=\"ISO-8859-1\")\n",
        "df_test = pd.read_csv('/content/drive/MyDrive/homedepot_data/test.csv', encoding=\"ISO-8859-1\")\n",
        "df_pro_desc = pd.read_csv('/content/drive/MyDrive/homedepot_data/product_descriptions.csv')\n",
        "stemmer = SnowballStemmer('english')\n",
        "\n",
        "num_train = df_train.shape[0]\n",
        "\n",
        "def str_stemmer(s):\n",
        "    return \" \".join([stemmer.stem(word) for word in s.lower().split()])\n",
        "\n",
        "\n",
        "def str_common_word(str1, str2):\n",
        "    return sum(int(str2.find(word) >= 0) for word in str1.split())\n",
        "\n",
        "\n",
        "df_all = pd.concat((df_train, df_test), axis=0, ignore_index=True)\n",
        "\n",
        "df_all = pd.merge(df_all, df_pro_desc, how='left', on='product_uid')\n",
        "\n",
        "df_all['search_term'] = df_all['search_term'].map(lambda x: str_stemmer(x))\n",
        "df_all['product_title'] = df_all['product_title'].map(lambda x: str_stemmer(x))\n",
        "df_all['product_description'] = df_all['product_description'].map(lambda x: str_stemmer(x))\n",
        "\n",
        "df_all['len_of_query'] = df_all['search_term'].map(lambda x: len(x.split())).astype(np.int64)\n",
        "\n",
        "df_all['product_info'] = df_all['search_term']+\"\\t\"+df_all['product_title']+\"\\t\"+df_all['product_description']\n",
        "\n",
        "df_all['word_in_title'] = df_all['product_info'].map(lambda x: str_common_word(x.split('\\t')[0], x.split('\\t')[1]))\n",
        "df_all['word_in_description'] = df_all['product_info'].map(lambda x: str_common_word(x.split('\\t')[0],\n",
        "                                                                                     x.split('\\t')[2]))\n",
        "\n",
        "df_all = df_all.drop(['search_term', 'product_title', 'product_description', 'product_info'], axis=1)\n",
        "\n",
        "df_train = df_all.iloc[:num_train]\n",
        "df_test = df_all.iloc[num_train:]\n",
        "id_test = df_test['id']\n",
        "y_train = df_train['relevance'].values\n",
        "X_train = df_train.drop(['id', 'relevance'], axis=1).values\n",
        "X_test = df_test.drop(['id', 'relevance'], axis=1).values\n",
        "end1 = time.time()"
      ]
    },
    {
      "cell_type": "code",
      "source": [
        "start2 = time.time()\n",
        "X_train_xgb, X_test_xgb, y_train_xgb, y_test_xgb = train_test_split(X_train, y_train, test_size=0.2, random_state=0)\n",
        "xg_reg = xgb.XGBRegressor(objective='reg:squarederror', n_estimators=25, max_depth=6, learning_rate=0.1, random_state=0)\n",
        "\n",
        "xg_reg.fit(X_train_xgb, y_train_xgb)\n",
        "y_pred_xgb = xg_reg.predict(X_test_xgb)\n",
        "rmse_xgb = np.sqrt(mean_squared_error(y_test_xgb, y_pred_xgb))\n",
        "\n",
        "end2 = time.time()\n",
        "\n",
        "print(f'RMSE: {rmse_xgb}')\n",
        "print(f'Time: {(end1 - start1) + (end2-start2)} sec')"
      ],
      "metadata": {
        "colab": {
          "base_uri": "https://localhost:8080/"
        },
        "id": "htFC3QMjzKC6",
        "outputId": "0d05f059-7b71-440c-e73b-d3c80297a607"
      },
      "execution_count": null,
      "outputs": [
        {
          "output_type": "stream",
          "name": "stdout",
          "text": [
            "RMSE: 0.47893266488851804\n",
            "Time: 499.98986530303955 sec\n"
          ]
        }
      ]
    },
    {
      "cell_type": "markdown",
      "metadata": {
        "id": "ASnJ_YPP0Zsq"
      },
      "source": [
        "Stemming removal is calculated through commenting str_stemmer() and just lowering product descriptions, search term-product title pairs: the results are RMSE: 0.48905825687856247\n",
        "Time: 8.132512092590332 sec"
      ]
    },
    {
      "cell_type": "markdown",
      "source": [
        "Last Word Match"
      ],
      "metadata": {
        "id": "_XLeaiZlx4va"
      }
    },
    {
      "cell_type": "code",
      "source": [
        "num_train = df_train.shape[0]\n",
        "\n",
        "def str_stemmer(s):\n",
        "\treturn \" \".join([stemmer.stem(word) for word in s.lower().split()])\n",
        "\n",
        "def str_common_word(str1, str2):\n",
        "\treturn sum(int(str2.find(word)>=0) for word in str1.split())\n",
        "\n",
        "def last_word_match(search_term, product_title, product_description):\n",
        "    last_word = search_term.split()[-1]\n",
        "    title_words = product_title.split()\n",
        "    description_words = product_description.split()\n",
        "    if last_word in title_words or last_word in description_words:\n",
        "        return 1\n",
        "    else:\n",
        "        return 0\n",
        "\n",
        "df_all = pd.concat((df_train, df_test), axis=0, ignore_index=True)\n",
        "\n",
        "df_all = pd.merge(df_all, df_pro_desc, how='left', on='product_uid')\n",
        "\n",
        "\n",
        "df_all['search_term'] = df_all['search_term'].map(lambda x:str_stemmer(x))\n",
        "df_all['product_title'] = df_all['product_title'].map(lambda x:str_stemmer(x))\n",
        "df_all['product_description'] = df_all['product_description'].map(lambda x:str_stemmer(x))\n",
        "\n",
        "df_all['len_of_query'] = df_all['search_term'].map(lambda x:len(x.split())).astype(np.int64)\n",
        "\n",
        "df_all['product_info'] = df_all['search_term']+\"\\t\"+df_all['product_title']+\"\\t\"+df_all['product_description']\n",
        "\n",
        "df_all['word_in_title'] = df_all['product_info'].map(lambda x:str_common_word(x.split('\\t')[0],x.split('\\t')[1]))\n",
        "df_all['word_in_description'] = df_all['product_info'].map(lambda x:str_common_word(x.split('\\t')[0],x.split('\\t')[2]))\n",
        "df_all['last_word_match'] = df_all.apply(lambda row: last_word_match(row['search_term'], row['product_title'], row['product_description']), axis=1)\n",
        "\n",
        "df_all = df_all.drop(['search_term','product_title','product_description','product_info'],axis=1)\n",
        "\n",
        "df_train = df_all.iloc[:num_train]\n",
        "df_test = df_all.iloc[num_train:]\n",
        "id_test = df_test['id']\n",
        "\n",
        "y_train = df_train['relevance'].values\n",
        "X_train = df_train.drop(['id','relevance'],axis=1).values\n",
        "X_test = df_test.drop(['id','relevance'],axis=1).values"
      ],
      "metadata": {
        "id": "6E73OLLGxzmR"
      },
      "execution_count": null,
      "outputs": []
    },
    {
      "cell_type": "code",
      "source": [
        "X_train_xgb, X_test_xgb, y_train_xgb, y_test_xgb = train_test_split(X_train, y_train, test_size=0.2, random_state=0)\n",
        "xg_reg = xgb.XGBRegressor(objective='reg:squarederror', n_estimators=25, max_depth=6, learning_rate=0.1, random_state=0)\n",
        "\n",
        "xg_reg.fit(X_train_xgb, y_train_xgb)\n",
        "y_pred_xgb = xg_reg.predict(X_test_xgb)\n",
        "rmse_xgb = np.sqrt(mean_squared_error(y_test_xgb, y_pred_xgb))\n",
        "\n",
        "print(f'RMSE: {rmse_xgb}')"
      ],
      "metadata": {
        "id": "oyKUuMlryLia"
      },
      "execution_count": null,
      "outputs": []
    },
    {
      "cell_type": "markdown",
      "source": [
        "Numeric feature from attributes dataset implementation"
      ],
      "metadata": {
        "id": "OdYHNFz7AOna"
      }
    },
    {
      "cell_type": "code",
      "source": [
        "import pandas as pd\n",
        "import xgboost as xgb\n",
        "from nltk import SnowballStemmer\n",
        "import re\n",
        "import numpy as np\n",
        "from sklearn.metrics import mean_squared_error\n",
        "from sklearn.model_selection import train_test_split\n",
        "import time\n",
        "\n",
        "start = time.time()\n",
        "\n",
        "df_train = pd.read_csv('/content/drive/MyDrive/homedepot_data/train.csv', encoding=\"ISO-8859-1\")\n",
        "df_test = pd.read_csv('/content/drive/MyDrive/homedepot_data/test.csv', encoding=\"ISO-8859-1\")\n",
        "df_attributes = pd.read_csv('/content/drive/MyDrive/homedepot_data/attributes.csv')\n",
        "df_pro_desc = pd.read_csv('/content/drive/MyDrive/homedepot_data/product_descriptions.csv')\n",
        "\n",
        "num_train = df_train.shape[0]\n",
        "\n",
        "stemmer = SnowballStemmer('english')\n",
        "\n",
        "\n",
        "def str_stemmer(s):\n",
        "    return \" \".join([stemmer.stem(word) for word in s.lower().split()])\n",
        "\n",
        "\n",
        "def str_common_word(str1, str2):\n",
        "    return sum(int(str2.find(word) >= 0) for word in str1.split())\n",
        "\n",
        "\n",
        "def extract_numbers_and_units(text: str) -> dict:\n",
        "    units = ['ft', 'in', 'mm', 'cm', 'm']\n",
        "    numbers = re.findall(r'\\d*\\.?\\d+', text)\n",
        "    extracted_units = [unit for unit in units if unit in text]\n",
        "    return {\n",
        "        'numbers': set(str(num) for num in numbers),\n",
        "        'units': set(extracted_units)\n",
        "    }\n",
        "\n",
        "\n",
        "def count_common_values(str1: str, str2: str) -> float:\n",
        "    if isinstance(str1, str) and isinstance(str2, str):\n",
        "        data1 = extract_numbers_and_units(str1)\n",
        "        data2 = extract_numbers_and_units(str2)\n",
        "        common_numbers = data1['numbers'].intersection(data2['numbers'])\n",
        "        common_units = data1['units'].intersection(data2['units'])\n",
        "        num_common_values = len(common_numbers) + len(common_units)\n",
        "        return num_common_values\n",
        "    else:\n",
        "        return 0\n",
        "\n",
        "\n",
        "df_all = pd.concat((df_train, df_test), axis=0, ignore_index=True)\n",
        "df_all = pd.merge(df_all, df_pro_desc, how='left', on='product_uid')\n",
        "\n",
        "df_all['search_term'] = df_all['search_term'].map(lambda x: str_stemmer(x))\n",
        "df_all['product_title'] = df_all['product_title'].map(lambda x: str_stemmer(x))\n",
        "df_all['product_description'] = df_all['product_description'].map(lambda x: str_stemmer(x))\n",
        "\n",
        "df_all['len_of_query'] = df_all['search_term'].map(lambda x: len(x.split())).astype(np.int64)\n",
        "df_all['product_info'] = df_all['search_term'] + \"\\t\" + df_all['product_title'] + \"\\t\" + df_all['product_description']\n",
        "df_all['word_in_title'] = df_all['product_info'].map(lambda x: str_common_word(x.split('\\t')[0], x.split('\\t')[1]))\n",
        "df_all['word_in_description'] = df_all['product_info'].map(lambda x: str_common_word(x.split('\\t')[0], x.split('\\t')[2]))\n",
        "\n",
        "df_attributes['value'] = df_attributes['value'].astype(str).map(lambda x: x.lower())\n",
        "df_all = pd.merge(df_all, df_attributes, on='product_uid', how='left')\n",
        "\n",
        "df_all['num_info'] = df_all['search_term'] + \"\\t\" + df_all['value']\n",
        "\n",
        "\n",
        "def apply_count_common_values(row):\n",
        "    split_row = str(row).split('\\t')\n",
        "    if len(split_row) >= 2:\n",
        "        return count_common_values(split_row[0], split_row[1])\n",
        "    else:\n",
        "        return 0\n",
        "\n",
        "\n",
        "df_all['value_numbers_units'] = df_all['num_info'].apply(apply_count_common_values)\n",
        "\n",
        "df_all = df_all.drop(['search_term', 'product_title', 'product_description', 'product_info', 'value', 'num_info', 'name'], axis=1)\n",
        "\n",
        "df_train = df_all.iloc[:num_train]\n",
        "df_test = df_all.iloc[num_train:]\n",
        "id_test = df_test['id']\n",
        "y_train = df_train['relevance'].values\n",
        "X_train = df_train.drop(['id', 'relevance'], axis=1).values\n",
        "X_test = df_test.drop(['id', 'relevance'], axis=1).values\n",
        "\n",
        "\n",
        "X_train_xgb, X_test_xgb, y_train_xgb, y_test_xgb = train_test_split(X_train, y_train, test_size=0.2, random_state=0)\n",
        "xg_reg = xgb.XGBRegressor(objective='reg:squarederror', n_estimators=25, max_depth=5, learning_rate=0.1, random_state=0)\n",
        "\n",
        "xg_reg.fit(X_train_xgb, y_train_xgb)\n",
        "y_pred_xgb = xg_reg.predict(X_test_xgb)\n",
        "rmse_xgb = np.sqrt(mean_squared_error(y_test_xgb, y_pred_xgb))\n",
        "\n",
        "end = time.time()\n",
        "\n",
        "print(f'RMSE: {rmse_xgb}')\n",
        "print(f'Time: {(end - start)} sec')"
      ],
      "metadata": {
        "colab": {
          "base_uri": "https://localhost:8080/"
        },
        "id": "sxrleDzOlIB4",
        "outputId": "8502418d-addc-4208-d8b8-b7a513b456a9"
      },
      "execution_count": null,
      "outputs": [
        {
          "output_type": "stream",
          "name": "stdout",
          "text": [
            "RMSE: 0.46077265647280374\n",
            "Time: 562.0733530521393 sec\n"
          ]
        }
      ]
    },
    {
      "cell_type": "markdown",
      "metadata": {
        "id": "tLWW8UUZv_iX"
      },
      "source": [
        "# hyperparameter optimization"
      ]
    },
    {
      "cell_type": "code",
      "source": [
        "# save X, y\n",
        "grid_X, grid_y, test_X, test_y = X_train_split, y_train_split, X_test_split, y_test_split"
      ],
      "metadata": {
        "id": "JNUoZCnRnQIp"
      },
      "execution_count": null,
      "outputs": []
    },
    {
      "cell_type": "markdown",
      "metadata": {
        "id": "G3CZwaWG7PCt"
      },
      "source": [
        "Grid Search"
      ]
    },
    {
      "cell_type": "code",
      "execution_count": null,
      "metadata": {
        "colab": {
          "base_uri": "https://localhost:8080/"
        },
        "id": "_9knu00Bv1RO",
        "outputId": "4661c607-fe58-4091-bf67-3bc9cb1edee4"
      },
      "outputs": [
        {
          "output_type": "stream",
          "name": "stdout",
          "text": [
            "{'n_estimators': 30}\n",
            "Best RMSE: 0.4846564405813668\n"
          ]
        }
      ],
      "source": [
        "from sklearn.model_selection import GridSearchCV\n",
        "\n",
        "param_grid = {\n",
        "    'n_estimators': [10, 20, 30],\n",
        "}\n",
        "\n",
        "grid_search = GridSearchCV(clf, param_grid, cv=5, scoring='neg_mean_squared_error')\n",
        "\n",
        "grid_search.fit(grid_X, grid_y)\n",
        "\n",
        "best_params = grid_search.best_params_\n",
        "\n",
        "# train the model with the best hyperparameters\n",
        "best_model = BaggingRegressor(RandomForestRegressor(**best_params), n_estimators=45, max_samples=0.1, random_state=25)\n",
        "best_model.fit(grid_X, grid_y)\n",
        "\n",
        "y_pred = best_model.predict(test_X)\n",
        "print(best_params)\n",
        "rmse = np.sqrt(mean_squared_error(test_y, y_pred))\n",
        "print(\"Best RMSE:\", rmse)"
      ]
    },
    {
      "cell_type": "markdown",
      "source": [
        "Random Search"
      ],
      "metadata": {
        "id": "ZB8DtL1BC30d"
      }
    },
    {
      "cell_type": "code",
      "execution_count": null,
      "metadata": {
        "colab": {
          "base_uri": "https://localhost:8080/"
        },
        "id": "vmEoapJB7u0M",
        "outputId": "ca832025-d262-4719-82ca-577a0468c4ad"
      },
      "outputs": [
        {
          "output_type": "stream",
          "name": "stdout",
          "text": [
            "RMSE: 0.48024399493964837\n"
          ]
        }
      ],
      "source": [
        "from sklearn.model_selection import RandomizedSearchCV\n",
        "from sklearn.ensemble import RandomForestRegressor\n",
        "from scipy.stats import randint\n",
        "\n",
        "param_dist = {\n",
        "    'n_estimators': randint(10, 100),\n",
        "    'max_depth': [3, 5, 10, 15],\n",
        "}\n",
        "\n",
        "random_search = RandomizedSearchCV(\n",
        "    estimator=RandomForestRegressor(),\n",
        "    param_distributions=param_dist,\n",
        "    n_iter=10,\n",
        "    cv=5,\n",
        "    scoring='neg_mean_squared_error',\n",
        "    random_state=42\n",
        ")\n",
        "\n",
        "random_search.fit(grid_X, grid_y)\n",
        "\n",
        "best_estimator = random_search.best_estimator_\n",
        "\n",
        "y_pred = best_estimator.predict(test_X)\n",
        "\n",
        "rmse = np.sqrt(mean_squared_error(test_y, y_pred))\n",
        "print(\"RMSE:\", rmse)"
      ]
    },
    {
      "cell_type": "code",
      "source": [
        "best_estimator"
      ],
      "metadata": {
        "colab": {
          "base_uri": "https://localhost:8080/",
          "height": 75
        },
        "id": "kV0QV-YMp_t-",
        "outputId": "3cbbe4f2-6a5b-44be-9b1f-659342ae5023"
      },
      "execution_count": null,
      "outputs": [
        {
          "output_type": "execute_result",
          "data": {
            "text/plain": [
              "RandomForestRegressor(max_depth=10, n_estimators=81)"
            ],
            "text/html": [
              "<style>#sk-container-id-1 {color: black;background-color: white;}#sk-container-id-1 pre{padding: 0;}#sk-container-id-1 div.sk-toggleable {background-color: white;}#sk-container-id-1 label.sk-toggleable__label {cursor: pointer;display: block;width: 100%;margin-bottom: 0;padding: 0.3em;box-sizing: border-box;text-align: center;}#sk-container-id-1 label.sk-toggleable__label-arrow:before {content: \"▸\";float: left;margin-right: 0.25em;color: #696969;}#sk-container-id-1 label.sk-toggleable__label-arrow:hover:before {color: black;}#sk-container-id-1 div.sk-estimator:hover label.sk-toggleable__label-arrow:before {color: black;}#sk-container-id-1 div.sk-toggleable__content {max-height: 0;max-width: 0;overflow: hidden;text-align: left;background-color: #f0f8ff;}#sk-container-id-1 div.sk-toggleable__content pre {margin: 0.2em;color: black;border-radius: 0.25em;background-color: #f0f8ff;}#sk-container-id-1 input.sk-toggleable__control:checked~div.sk-toggleable__content {max-height: 200px;max-width: 100%;overflow: auto;}#sk-container-id-1 input.sk-toggleable__control:checked~label.sk-toggleable__label-arrow:before {content: \"▾\";}#sk-container-id-1 div.sk-estimator input.sk-toggleable__control:checked~label.sk-toggleable__label {background-color: #d4ebff;}#sk-container-id-1 div.sk-label input.sk-toggleable__control:checked~label.sk-toggleable__label {background-color: #d4ebff;}#sk-container-id-1 input.sk-hidden--visually {border: 0;clip: rect(1px 1px 1px 1px);clip: rect(1px, 1px, 1px, 1px);height: 1px;margin: -1px;overflow: hidden;padding: 0;position: absolute;width: 1px;}#sk-container-id-1 div.sk-estimator {font-family: monospace;background-color: #f0f8ff;border: 1px dotted black;border-radius: 0.25em;box-sizing: border-box;margin-bottom: 0.5em;}#sk-container-id-1 div.sk-estimator:hover {background-color: #d4ebff;}#sk-container-id-1 div.sk-parallel-item::after {content: \"\";width: 100%;border-bottom: 1px solid gray;flex-grow: 1;}#sk-container-id-1 div.sk-label:hover label.sk-toggleable__label {background-color: #d4ebff;}#sk-container-id-1 div.sk-serial::before {content: \"\";position: absolute;border-left: 1px solid gray;box-sizing: border-box;top: 0;bottom: 0;left: 50%;z-index: 0;}#sk-container-id-1 div.sk-serial {display: flex;flex-direction: column;align-items: center;background-color: white;padding-right: 0.2em;padding-left: 0.2em;position: relative;}#sk-container-id-1 div.sk-item {position: relative;z-index: 1;}#sk-container-id-1 div.sk-parallel {display: flex;align-items: stretch;justify-content: center;background-color: white;position: relative;}#sk-container-id-1 div.sk-item::before, #sk-container-id-1 div.sk-parallel-item::before {content: \"\";position: absolute;border-left: 1px solid gray;box-sizing: border-box;top: 0;bottom: 0;left: 50%;z-index: -1;}#sk-container-id-1 div.sk-parallel-item {display: flex;flex-direction: column;z-index: 1;position: relative;background-color: white;}#sk-container-id-1 div.sk-parallel-item:first-child::after {align-self: flex-end;width: 50%;}#sk-container-id-1 div.sk-parallel-item:last-child::after {align-self: flex-start;width: 50%;}#sk-container-id-1 div.sk-parallel-item:only-child::after {width: 0;}#sk-container-id-1 div.sk-dashed-wrapped {border: 1px dashed gray;margin: 0 0.4em 0.5em 0.4em;box-sizing: border-box;padding-bottom: 0.4em;background-color: white;}#sk-container-id-1 div.sk-label label {font-family: monospace;font-weight: bold;display: inline-block;line-height: 1.2em;}#sk-container-id-1 div.sk-label-container {text-align: center;}#sk-container-id-1 div.sk-container {/* jupyter's `normalize.less` sets `[hidden] { display: none; }` but bootstrap.min.css set `[hidden] { display: none !important; }` so we also need the `!important` here to be able to override the default hidden behavior on the sphinx rendered scikit-learn.org. See: https://github.com/scikit-learn/scikit-learn/issues/21755 */display: inline-block !important;position: relative;}#sk-container-id-1 div.sk-text-repr-fallback {display: none;}</style><div id=\"sk-container-id-1\" class=\"sk-top-container\"><div class=\"sk-text-repr-fallback\"><pre>RandomForestRegressor(max_depth=10, n_estimators=81)</pre><b>In a Jupyter environment, please rerun this cell to show the HTML representation or trust the notebook. <br />On GitHub, the HTML representation is unable to render, please try loading this page with nbviewer.org.</b></div><div class=\"sk-container\" hidden><div class=\"sk-item\"><div class=\"sk-estimator sk-toggleable\"><input class=\"sk-toggleable__control sk-hidden--visually\" id=\"sk-estimator-id-1\" type=\"checkbox\" checked><label for=\"sk-estimator-id-1\" class=\"sk-toggleable__label sk-toggleable__label-arrow\">RandomForestRegressor</label><div class=\"sk-toggleable__content\"><pre>RandomForestRegressor(max_depth=10, n_estimators=81)</pre></div></div></div></div></div>"
            ]
          },
          "metadata": {},
          "execution_count": 27
        }
      ]
    },
    {
      "cell_type": "markdown",
      "source": [
        "Halving Grid Seacrh Cross-Validation for XGBoost"
      ],
      "metadata": {
        "id": "1zU1o4s9mrTI"
      }
    },
    {
      "cell_type": "code",
      "source": [
        "# saving X, y\n",
        "xg_train_X, xg_test_X, xg_train_y, xg_test_y = X_train_xgb, X_test_xgb, y_train_xgb, y_test_xgb"
      ],
      "metadata": {
        "id": "-hPE8DxC2ot3"
      },
      "execution_count": null,
      "outputs": []
    },
    {
      "cell_type": "code",
      "source": [
        "from sklearn.model_selection import train_test_split\n",
        "from sklearn.model_selection import HalvingGridSearchCV\n",
        "from sklearn.experimental import enable_halving_search_cv"
      ],
      "metadata": {
        "id": "Cwqhx-Eu28dV"
      },
      "execution_count": null,
      "outputs": []
    },
    {
      "cell_type": "code",
      "source": [
        "param_dist = {\n",
        "    'n_estimators': [20 ,25],\n",
        "    'max_depth': [5, 6],\n",
        "    'learning_rate': [0.1, 0.2, 0.3],\n",
        "    'reg_alpha': [0, 0.005, 0.01, 0.05],\n",
        "    'reg_lambda': [0, 0.005, 0.01, 0.05]\n",
        "}\n",
        "\n",
        "halving_search = HalvingGridSearchCV(\n",
        "    estimator=xgb.XGBRegressor(objective='reg:squarederror', random_state=0),\n",
        "    param_grid=param_dist,\n",
        "    factor=3,\n",
        "    cv=5,\n",
        "    scoring='neg_mean_squared_error',\n",
        "    random_state=0,\n",
        "    n_jobs=-1\n",
        ")\n",
        "\n",
        "halving_search.fit(xg_train_X, xg_train_y)\n",
        "\n",
        "best_estimator = halving_search.best_estimator_\n",
        "y_pred_val = best_estimator.predict(xg_test_X)\n",
        "rmse_val = np.sqrt(mean_squared_error(xg_test_y, y_pred_val))\n",
        "print(\"Best Estimator:\", best_estimator)\n",
        "print(f\"RMSE: {rmse_val:.4f}\")\n"
      ],
      "metadata": {
        "colab": {
          "base_uri": "https://localhost:8080/"
        },
        "id": "UwIYe8Wk3EDq",
        "outputId": "140a38f4-0c63-4156-ee7a-47e8e3cacfcb"
      },
      "execution_count": null,
      "outputs": [
        {
          "output_type": "stream",
          "name": "stdout",
          "text": [
            "Best Estimator: XGBRegressor(base_score=None, booster=None, callbacks=None,\n",
            "             colsample_bylevel=None, colsample_bynode=None,\n",
            "             colsample_bytree=None, device=None, early_stopping_rounds=None,\n",
            "             enable_categorical=False, eval_metric=None, feature_types=None,\n",
            "             gamma=None, grow_policy=None, importance_type=None,\n",
            "             interaction_constraints=None, learning_rate=0.1, max_bin=None,\n",
            "             max_cat_threshold=None, max_cat_to_onehot=None,\n",
            "             max_delta_step=None, max_depth=5, max_leaves=None,\n",
            "             min_child_weight=None, missing=nan, monotone_constraints=None,\n",
            "             multi_strategy=None, n_estimators=25, n_jobs=None,\n",
            "             num_parallel_tree=None, random_state=0, ...)\n",
            "RMSE: 0.4791\n"
          ]
        }
      ]
    },
    {
      "cell_type": "markdown",
      "source": [
        "the initial parameters with 25 estimators, and max depth=6/5 were the best"
      ],
      "metadata": {
        "id": "pxmupO0AFQiS"
      }
    },
    {
      "cell_type": "code",
      "source": [
        "X_train_xgb, X_test_xgb, y_train_xgb, y_test_xgb = train_test_split(X_train, y_train, test_size=0.2, random_state=0)\n",
        "xg_reg = xgb.XGBRegressor(objective='reg:squarederror', n_estimators=25, max_depth=5, learning_rate=0.1, random_state=0)\n",
        "\n",
        "xg_reg.fit(X_train_xgb, y_train_xgb)\n",
        "y_pred_xgb = xg_reg.predict(X_test_xgb)\n",
        "rmse_xgb = np.sqrt(mean_squared_error(y_test_xgb, y_pred_xgb))"
      ],
      "metadata": {
        "id": "naVOqoMjdmbV"
      },
      "execution_count": null,
      "outputs": []
    },
    {
      "cell_type": "markdown",
      "source": [
        "Get top 5 important features for learning XGBoost"
      ],
      "metadata": {
        "id": "6SsJ5z1P_6DX"
      }
    },
    {
      "cell_type": "code",
      "source": [
        "import pandas as pd\n",
        "import xgboost as xgb\n",
        "from nltk import SnowballStemmer\n",
        "import re\n",
        "import numpy as np\n",
        "from sklearn.metrics import mean_squared_error\n",
        "from sklearn.model_selection import train_test_split\n",
        "import time\n",
        "\n",
        "start = time.time()\n",
        "\n",
        "df_train = pd.read_csv('/content/drive/MyDrive/homedepot_data/train.csv', encoding=\"ISO-8859-1\")\n",
        "df_test = pd.read_csv('/content/drive/MyDrive/homedepot_data/test.csv', encoding=\"ISO-8859-1\")\n",
        "df_attributes = pd.read_csv('/content/drive/MyDrive/homedepot_data/attributes.csv')\n",
        "df_pro_desc = pd.read_csv('/content/drive/MyDrive/homedepot_data/product_descriptions.csv')\n",
        "\n",
        "num_train = df_train.shape[0]\n",
        "\n",
        "stemmer = SnowballStemmer('english')\n",
        "\n",
        "\n",
        "def str_stemmer(s):\n",
        "    return \" \".join([stemmer.stem(word) for word in s.lower().split()])\n",
        "\n",
        "\n",
        "def str_common_word(str1, str2):\n",
        "    return sum(int(str2.find(word) >= 0) for word in str1.split())\n",
        "\n",
        "\n",
        "def extract_numbers_and_units(text: str) -> dict:\n",
        "    units = ['ft', 'in', 'mm', 'cm', 'm']\n",
        "    numbers = re.findall(r'\\d*\\.?\\d+', text)\n",
        "    extracted_units = [unit for unit in units if unit in text]\n",
        "    return {\n",
        "        'numbers': set(str(num) for num in numbers),\n",
        "        'units': set(extracted_units)\n",
        "    }\n",
        "\n",
        "\n",
        "def count_common_values(str1: str, str2: str) -> float:\n",
        "    if isinstance(str1, str) and isinstance(str2, str):\n",
        "        data1 = extract_numbers_and_units(str1)\n",
        "        data2 = extract_numbers_and_units(str2)\n",
        "        common_numbers = data1['numbers'].intersection(data2['numbers'])\n",
        "        common_units = data1['units'].intersection(data2['units'])\n",
        "        num_common_values = len(common_numbers) + len(common_units)\n",
        "        return num_common_values\n",
        "    else:\n",
        "        return 0\n",
        "\n",
        "\n",
        "def last_word_match(search_term, product_title, product_description):\n",
        "    last_word = search_term.split()[-1]\n",
        "    title_words = product_title.split()\n",
        "    description_words = product_description.split()\n",
        "    if last_word in title_words or last_word in description_words:\n",
        "        return 1\n",
        "    else:\n",
        "        return 0\n",
        "\n",
        "\n",
        "df_all = pd.concat((df_train, df_test), axis=0, ignore_index=True)\n",
        "df_all = pd.merge(df_all, df_pro_desc, how='left', on='product_uid')\n",
        "\n",
        "df_all['search_term'] = df_all['search_term'].map(lambda x: str_stemmer(x))\n",
        "df_all['product_title'] = df_all['product_title'].map(lambda x: str_stemmer(x))\n",
        "df_all['product_description'] = df_all['product_description'].map(lambda x: str_stemmer(x))\n",
        "\n",
        "df_all['len_of_query'] = df_all['search_term'].map(lambda x: len(x.split())).astype(np.int64)\n",
        "df_all['product_info'] = df_all['search_term'] + \"\\t\" + df_all['product_title'] + \"\\t\" + df_all['product_description']\n",
        "df_all['word_in_title'] = df_all['product_info'].map(lambda x: str_common_word(x.split('\\t')[0], x.split('\\t')[1]))\n",
        "df_all['word_in_description'] = df_all['product_info'].map(lambda x: str_common_word(x.split('\\t')[0], x.split('\\t')[2]))\n",
        "df_all['last_word_match'] = df_all.apply(lambda row: last_word_match(row['search_term'], row['product_title'], row['product_description']), axis=1)\n",
        "df_attributes['value'] = df_attributes['value'].astype(str).map(lambda x: x.lower())\n",
        "df_all = pd.merge(df_all, df_attributes, on='product_uid', how='left')\n",
        "\n",
        "df_all['num_info'] = df_all['search_term'] + \"\\t\" + df_all['value']\n",
        "\n",
        "\n",
        "def apply_count_common_values(row):\n",
        "    split_row = str(row).split('\\t')\n",
        "    if len(split_row) >= 2:\n",
        "        return count_common_values(split_row[0], split_row[1])\n",
        "    else:\n",
        "        return 0\n",
        "\n",
        "\n",
        "df_all['value_numbers_units'] = df_all['num_info'].apply(apply_count_common_values)\n",
        "\n",
        "df_all = df_all.drop(['search_term', 'product_title', 'product_description', 'product_info', 'value', 'num_info', 'name'], axis=1)\n",
        "\n",
        "df_train = df_all.iloc[:num_train]\n",
        "df_test = df_all.iloc[num_train:]\n",
        "id_test = df_test['id']\n",
        "y_train = df_train['relevance'].values\n",
        "X_train = df_train.drop(['id', 'relevance'], axis=1).values\n",
        "X_test = df_test.drop(['id', 'relevance'], axis=1).values\n",
        "\n",
        "\n",
        "X_train_xgb, X_test_xgb, y_train_xgb, y_test_xgb = train_test_split(X_train, y_train, test_size=0.2, random_state=0)\n",
        "xg_reg = xgb.XGBRegressor(objective='reg:squarederror', n_estimators=25, max_depth=5, learning_rate=0.1, random_state=0)\n",
        "X_train_xgb_df = pd.DataFrame(X_train_xgb, columns=['product_uid', 'len_of_query', 'word_in_title', 'word_in_description', 'last_word_match', 'value_numbers_units'])\n",
        "xg_reg.fit(X_train_xgb, y_train_xgb)\n",
        "weights = xg_reg.feature_importances_\n",
        "feature_names = X_train_xgb_df.columns\n",
        "feature_importance_df = pd.DataFrame({'Feature': feature_names, 'Importance': weights})\n",
        "feature_importance_df = feature_importance_df.sort_values(by='Importance', ascending=False)\n",
        "top_features = feature_importance_df.head()\n",
        "\n",
        "y_pred_xgb = xg_reg.predict(X_test_xgb)\n",
        "rmse_xgb = np.sqrt(mean_squared_error(y_test_xgb, y_pred_xgb))\n",
        "\n",
        "end = time.time()\n",
        "print(f'top features: {top_features}')\n",
        "print(f'RMSE: {rmse_xgb}')\n",
        "print(f'Time: {(end - start)} sec')"
      ],
      "metadata": {
        "id": "CAEe-YJ6m62M"
      },
      "execution_count": null,
      "outputs": []
    }
  ],
  "metadata": {
    "colab": {
      "provenance": [],
      "toc_visible": true
    },
    "kernelspec": {
      "display_name": "Python 3",
      "name": "python3"
    },
    "language_info": {
      "name": "python"
    }
  },
  "nbformat": 4,
  "nbformat_minor": 0
}