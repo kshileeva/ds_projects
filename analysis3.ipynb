{
 "cells": [
  {
   "cell_type": "code",
   "execution_count": 12,
   "metadata": {},
   "outputs": [],
   "source": [
    "from math import pi\n",
    "from bokeh.io import output_file\n",
    "from bokeh.plotting import figure, show\n",
    "from bokeh.palettes import Category20\n",
    "from bokeh.transform import cumsum\n",
    "import pandas as pd\n",
    "\n",
    "# The figure will be rendered inline in my Jupyter Notebook\n",
    "output_file('analysis3.html', title=\"a3\")\n",
    "\n",
    "# read file into Dataframe\n",
    "file_path = 'combined_sales_file.csv'\n",
    "df_table = pd.read_csv(file_path)\n",
    "\n",
    "# change the date form \n",
    "df = pd.DataFrame(df_table)\n",
    "\n",
    "# groupby the transaction by country and sort it by descending order\n",
    "country_transaction = df.groupby('Buyer Country')['Amount'].sum().reset_index()\n",
    "country_transaction_sorted = country_transaction.sort_values(by='Amount', ascending=False)\n",
    "\n",
    "# keep the first 9 rows, sum up the remaining rows and create a new row named 'others' \n",
    "top_9 = country_transaction_sorted.head(9)\n",
    "others = pd.DataFrame({'Buyer Country':['Others'],\n",
    "                       'Amount': [country_transaction_sorted['Amount'][9:].sum()]\n",
    "                           })\n",
    "result_dataframe = pd.concat([top_9, others])\n",
    "\n",
    "data = pd.DataFrame(result_dataframe).reset_index(drop=True)\n",
    "data['angle'] = data['Amount']/data['Amount'].sum() * 2*pi\n",
    "data['color'] = Category20[len(result_dataframe)]\n",
    "\n",
    "hover = HoverTool(\n",
    "    tooltips=[(\"Country\", \"@{Buyer Country}\"), \n",
    "              (\"Amount\", \"@Amount{1,11}\")])\n",
    "\n",
    "c = figure(height=350, title=\"Pie Chart\", toolbar_location=None,\n",
    "           tools=[hover], x_range=(-0.5, 1.0))\n",
    "\n",
    "\n",
    "c.wedge(x=0, y=1, radius=0.4,\n",
    "        start_angle=cumsum('angle', include_zero=True), end_angle=cumsum('angle'),\n",
    "        line_color=\"white\", fill_color='color', legend_field='Buyer Country', source=data)\n",
    "\n",
    "c.axis.axis_label = None\n",
    "c.axis.visible = False\n",
    "c.grid.grid_line_color = None\n",
    "\n",
    "show(c)\n"
   ]
  }
 ],
 "metadata": {
  "kernelspec": {
   "display_name": "Python 3",
   "language": "python",
   "name": "python3"
  },
  "language_info": {
   "codemirror_mode": {
    "name": "ipython",
    "version": 3
   },
   "file_extension": ".py",
   "mimetype": "text/x-python",
   "name": "python",
   "nbconvert_exporter": "python",
   "pygments_lexer": "ipython3",
   "version": "3.12.2"
  }
 },
 "nbformat": 4,
 "nbformat_minor": 2
}
