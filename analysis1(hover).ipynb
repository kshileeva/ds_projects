{
 "cells": [
  {
   "cell_type": "code",
   "execution_count": null,
   "metadata": {},
   "outputs": [],
   "source": []
  },
  {
   "cell_type": "code",
   "execution_count": 1,
   "metadata": {},
   "outputs": [
    {
     "name": "stdout",
     "output_type": "stream",
     "text": [
      "float64\n",
      "   month   Amount  Description\n",
      "0      6   671.40          551\n",
      "1      7  1001.78          626\n",
      "2      8  1005.94          661\n",
      "3      9   814.18          485\n",
      "4     10   805.64          469\n",
      "5     11  1153.50          344\n",
      "6     12  1173.87          351\n"
     ]
    }
   ],
   "source": [
    "# Bokeh Libraries\n",
    "from bokeh.io import output_file\n",
    "from bokeh.plotting import figure, show\n",
    "from bokeh.models import LinearAxis, Range1d, HoverTool\n",
    "import pandas as pd\n",
    "\n",
    "# The figure will be rendered inline in my Jupyter Notebook\n",
    "output_file('analysis1.html', title=\"a1\")\n",
    "\n",
    "# read file into Dataframe\n",
    "file_path = 'combined_sales_file.csv'\n",
    "df_table = pd.read_csv(file_path)\n",
    "\n",
    "# change the date form \n",
    "df = pd.DataFrame(df_table)\n",
    "df['Transaction Date'] = pd.to_datetime(df['Transaction Date'], format='mixed', errors='coerce')\n",
    "df['month'] = df['Transaction Date'].dt.month\n",
    "\n",
    "# check data type\n",
    "print(df_table['Amount'].dtypes) #object\n",
    "df_table['Amount']=df_table['Amount'].astype(float)\n",
    "\n",
    "# groupby the date and transcation by month \n",
    "monthly_data = df.groupby('month').agg({'Amount':'sum', 'Description': 'count'}).reset_index()\n",
    "print(monthly_data)\n",
    "\n",
    "# set up tooltips\n",
    "hover = HoverTool(\n",
    "    tooltips=[\n",
    "        (\"Month\", \"@month\"),\n",
    "        (\"Transaction Amount\", \"@Amount\"),\n",
    "        (\"Transaction Volume\", \"@Description\")\n",
    "    ]\n",
    ")\n",
    "\n",
    "# draw Bokeh plot\n",
    "p = figure(width=600, \n",
    "           height=400, \n",
    "           title='monthly transcation', \n",
    "           x_axis_label='Month', \n",
    "           y_axis_label='Transaction Amount',\n",
    "           tools=[hover],\n",
    "           )\n",
    "\n",
    "# configure HoverTool\n",
    "p.hover.mode='vline'\n",
    "\n",
    "# add the first line(y1) to the plot and draw line chart: month and amount\n",
    "p.line(x='month', y='Amount', source=monthly_data, legend_label='Transaction Amount', \n",
    "       line_width=2, color='navy')  # Use 'source' parameter and column names directly\n",
    "\n",
    "# add the second line(y2) to the plot and draw line chart: month and quantity\n",
    "p.extra_y_ranges = {'Description': Range1d(start=0, end=700)}\n",
    "p.line(x='month', y='Description', source=monthly_data, legend_label='Transaction Volume',\n",
    "       line_width=2, color='red', y_range_name='Description')\n",
    "\n",
    "# add the secondary y-axis to the plot\n",
    "p.add_layout(LinearAxis(y_range_name='Description', axis_label='Transaction Volume'), 'right')\n",
    "\n",
    "# Hide corresponding line glyph when legend entry is clicked\n",
    "p.legend.location = 'top_left'\n",
    "p.legend.click_policy = \"hide\"\n",
    "show(p)\n",
    "\n"
   ]
  },
  {
   "cell_type": "code",
   "execution_count": null,
   "metadata": {},
   "outputs": [],
   "source": []
  }
 ],
 "metadata": {
  "kernelspec": {
   "display_name": "Python 3",
   "language": "python",
   "name": "python3"
  },
  "language_info": {
   "codemirror_mode": {
    "name": "ipython",
    "version": 3
   },
   "file_extension": ".py",
   "mimetype": "text/x-python",
   "name": "python",
   "nbconvert_exporter": "python",
   "pygments_lexer": "ipython3",
   "version": "3.12.2"
  }
 },
 "nbformat": 4,
 "nbformat_minor": 2
}
